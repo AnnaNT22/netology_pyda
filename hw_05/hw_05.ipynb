{
 "cells": [
  {
   "cell_type": "markdown",
   "metadata": {},
   "source": [
    "# Домашнее задание к лекции 5\n",
    "1. Переведите содержимое файла purchase_log.txt в словарь purchases вида:\n",
    "```python\n",
    "{'1840e0b9d4': 'Продукты', ...}\n",
    "```\n",
    "\n",
    "2. Для каждого user_id в файле visit_log.csv добавьте третий столбец с категорией покупки (если покупка была).\n",
    "\n",
    "3. Запишите в файл funnel.csv визиты из файла visit_log.csv, в которых были покупки с указанием категории.\n",
    "\n",
    "Учтите условия на данные:\n",
    "- содержимое purchase_log.txt помещается в оперативную память компьютера\n",
    "- содержимое visit_log.csv - нет; используйте только построчную обработку этого файла"
   ]
  },
  {
   "cell_type": "code",
   "execution_count": 96,
   "metadata": {},
   "outputs": [],
   "source": [
    "import json"
   ]
  },
  {
   "cell_type": "code",
   "execution_count": 156,
   "metadata": {},
   "outputs": [],
   "source": [
    "with open('purchase_log.txt', encoding = 'utf-8') as f1:\n",
    "    f1.readline()\n",
    "    content = f1.readlines()\n",
    "    \n",
    "purchases = {}\n",
    "for line in content:\n",
    "    line = line.strip()\n",
    "    dict_line = json.loads(line)\n",
    "    purchases[dict_line['user_id']] = dict_line['category']"
   ]
  },
  {
   "cell_type": "code",
   "execution_count": 168,
   "metadata": {},
   "outputs": [
    {
     "data": {
      "text/plain": [
       "'Продукты'"
      ]
     },
     "execution_count": 168,
     "metadata": {},
     "output_type": "execute_result"
    }
   ],
   "source": [
    "# пример\n",
    "purchases['1840e0b9d4']"
   ]
  },
  {
   "cell_type": "code",
   "execution_count": 158,
   "metadata": {},
   "outputs": [],
   "source": [
    "with open('visit_log.csv', 'r') as f2:\n",
    "    a = f2.readline().strip()\n",
    "    line0 = a + ',' + 'category' + '\\n'\n",
    "    with open('visit_log_copy.csv', 'a') as f3:\n",
    "        f3.write(line0)\n",
    "    with open('funnel.csv', 'a') as f4:\n",
    "        f4.write(line0)\n",
    "    for user_id, category in purchases.items():\n",
    "        for line in f2:\n",
    "            one_line = line.strip().split(',')\n",
    "            if one_line[0] == user_id:\n",
    "                one_line.append(category)\n",
    "                line2 = ','.join(one_line)\n",
    "                line2 = line2 + '\\n'\n",
    "                with open('visit_log_copy.csv', 'a') as f3:\n",
    "                    f3.write(line2)\n",
    "                with open('funnel.csv', 'a') as f4:\n",
    "                    f4.write(line2)\n",
    "                    break\n",
    "            with open('visit_log_copy.csv', 'a') as f3:\n",
    "                f3.write(line)"
   ]
  },
  {
   "cell_type": "code",
   "execution_count": 164,
   "metadata": {},
   "outputs": [
    {
     "name": "stdout",
     "output_type": "stream",
     "text": [
      "user_id,source,category\n",
      "\n",
      "1840e0b9d4,other,Продукты\n",
      "\n",
      "4e4f90fcfb,context,Электроника\n",
      "\n",
      "afea8d72fc,other,Электроника\n",
      "\n",
      "373a6055fe,other,Бытовая техника\n",
      "\n"
     ]
    }
   ],
   "source": [
    "# пример\n",
    "with open('funnel.csv', 'r') as f5:\n",
    "    for i in range(5):\n",
    "        print(f5.readline())"
   ]
  },
  {
   "cell_type": "code",
   "execution_count": 165,
   "metadata": {},
   "outputs": [
    {
     "name": "stdout",
     "output_type": "stream",
     "text": [
      "user_id,source,category\n",
      "\n",
      "6450655ae8,other\n",
      "\n",
      "b4ea53e670,other\n",
      "\n",
      "0e37347152,other\n",
      "\n",
      "96064ae9e0,other\n",
      "\n",
      "e1bd168161,context\n",
      "\n",
      "71bcf169b4,other\n",
      "\n",
      "e0aee73c5d,other\n",
      "\n",
      "1f8845e157,context\n",
      "\n",
      "78d22c5c78,other\n",
      "\n",
      "dd85040770,other\n",
      "\n",
      "2301051b25,other\n",
      "\n",
      "86835b81ac,context\n",
      "\n",
      "90d9a575a2,other\n",
      "\n",
      "1b75c4f23f,other\n",
      "\n",
      "d94b908660,None\n",
      "\n",
      "f697206af5,other\n",
      "\n",
      "8a9a2de36e,other\n",
      "\n",
      "dd3d43c266,context\n",
      "\n",
      "f6401d302f,context\n",
      "\n",
      "b18d58560b,email\n",
      "\n",
      "ed79586589,other\n",
      "\n",
      "1840e0b9d4,other,Продукты\n",
      "\n",
      "b4afdc5ccc,other\n",
      "\n",
      "470248aabf,other\n",
      "\n"
     ]
    }
   ],
   "source": [
    "# пример\n",
    "with open('visit_log_copy.csv', 'r') as f6:\n",
    "    for i in range(25):\n",
    "        print(f6.readline())"
   ]
  },
  {
   "cell_type": "code",
   "execution_count": null,
   "metadata": {},
   "outputs": [],
   "source": []
  }
 ],
 "metadata": {
  "kernelspec": {
   "display_name": "Python 3",
   "language": "python",
   "name": "python3"
  }
 },
 "nbformat": 4,
 "nbformat_minor": 2
}
