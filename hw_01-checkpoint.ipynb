{
 "cells": [
  {
   "cell_type": "markdown",
   "metadata": {},
   "source": [
    "**Задание 1**. Даны 2 строки: *long_phrase* и *short_phrase*. \n",
    "Напишите код, который проверяет действительно ли длинная фраза *long_phrase* длиннее короткой *short_phrase*. И выводит *True* или *False* в зависимости от результата сравнения."
   ]
  },
  {
   "cell_type": "code",
   "execution_count": null,
   "metadata": {},
   "outputs": [],
   "source": [
    "long_phrase = 'Насколько проще было бы писать программы, если бы не заказчики'\n",
    "short_phrase = '640Кб должно хватить для любых задач. Билл Гейтс (по легенде)'"
   ]
  },
  {
   "cell_type": "code",
   "execution_count": 4,
   "metadata": {},
   "outputs": [
    {
     "name": "stdout",
     "output_type": "stream",
     "text": [
      "True\n"
     ]
    }
   ],
   "source": [
    "long_phrase = 'Насколько проще было бы писать программы, если бы не заказчики'\n",
    "short_phrase = '640Кб должно хватить для любых задач. Билл Гейтс (по легенде)'\n",
    "\n",
    "if len(long_phrase) > len(short_phrase):\n",
    "    print(\"True\")\n",
    "else:\n",
    "    print(\"False\")"
   ]
  },
  {
   "cell_type": "markdown",
   "metadata": {},
   "source": [
    "**Задание 2**. Дано значение объема файла в байтах. Напишите перевод этого значения в мегабайты в формате: \"*Объем файла равен 213.68Mb*\""
   ]
  },
  {
   "cell_type": "code",
   "execution_count": 5,
   "metadata": {},
   "outputs": [
    {
     "name": "stdout",
     "output_type": "stream",
     "text": [
      "Введите объем файла в байтах224059720\n",
      "Объем файла равен 213.68 Mb\n"
     ]
    }
   ],
   "source": [
    "file_size = int(input(\"Введите объем файла в байтах\"))\n",
    "file_size_Mb = round(file_size / 1024 ** 2, 2)\n",
    "print(\"Объем файла равен\", file_size_Mb, \"Mb\")"
   ]
  },
  {
   "cell_type": "markdown",
   "metadata": {},
   "source": [
    "**Задание 3**. Разработать приложение для определения знака зодиака по дате рождения. Пример:\n",
    "\n",
    "Введите месяц: март\n",
    "\n",
    "Введите число: 6\n",
    "\n",
    "Вывод:\n",
    "Рыбы"
   ]
  },
  {
   "cell_type": "code",
   "execution_count": 1,
   "metadata": {},
   "outputs": [
    {
     "name": "stdout",
     "output_type": "stream",
     "text": [
      "Введите месяц рожденияавгуст\n",
      "Введите дату рождения27\n",
      "Дева\n"
     ]
    }
   ],
   "source": [
    "month_of_birth = input(\"Введите месяц рождения\")\n",
    "date_of_birth = int(input(\"Введите дату рождения\"))\n",
    "\n",
    "if (month_of_birth == \"март\" and 21 <= date_of_birth <= 31) or (month_of_birth == \"апрель\" and 1 <= date_of_birth <= 20):\n",
    "    print(\"Овен\")\n",
    "elif (month_of_birth == \"апрель\" and 21 <= date_of_birth <= 30) or (month_of_birth == \"май\" and 1 <= date_of_birth <= 21):\n",
    "    print(\"Телец\")\n",
    "elif (month_of_birth == \"май\" and 22 <= date_of_birth <= 31) or (month_of_birth == \"июнь\" and 1 <= date_of_birth <= 21):\n",
    "    print(\"Близнецы\")\n",
    "elif (month_of_birth == \"июнь\" and 22 <= date_of_birth <= 30) or (month_of_birth == \"июль\" and 1 <= date_of_birth <= 22):\n",
    "    print(\"Рак\")\n",
    "elif (month_of_birth == \"июль\" and 23 <= date_of_birth <= 31) or (month_of_birth == \"август\" and 1 <= date_of_birth <= 23):\n",
    "    print(\"Лев\")\n",
    "elif (month_of_birth == \"август\" and 24 <= date_of_birth <= 31) or (month_of_birth == \"сентября\" and 1 <= date_of_birth <= 23):\n",
    "    print(\"Дева\")\n",
    "elif (month_of_birth == \"сентябрь\" and 24 <= date_of_birth <= 30) or (month_of_birth == \"октябрь\" and 1 <= date_of_birth <= 23):\n",
    "    print(\"Весы\")\n",
    "elif (month_of_birth == \"октябрь\" and 24 <= date_of_birth <= 31) or (month_of_birth == \"ноябрь\" and 1 <= date_of_birth <= 22):\n",
    "    print(\"Скорпион\")\n",
    "elif (month_of_birth == \"ноябрь\" and 23 <= date_of_birth <= 30) or (month_of_birth == \"декабрь\" and 1 <= date_of_birth <= 21):\n",
    "    print(\"Стрелец\")\n",
    "elif (month_of_birth == \"декабрь\" and 22 <= date_of_birth <= 31) or (month_of_birth == \"январь\" and 1 <= date_of_birth <= 20):\n",
    "    print(\"Козерог\")\n",
    "elif (month_of_birth == \"январь\" and 21 <= date_of_birth <= 31) or (month_of_birth == \"февраль\" and 1 <= date_of_birth <= 18):\n",
    "    print(\"Водолей\")\n",
    "elif (month_of_birth == \"февраль\" and 19 <= date_of_birth <= 29) or (month_of_birth == \"март\" and 1 <= date_of_birth <= 20):\n",
    "    print(\"Рыбы\")\n",
    "else:\n",
    "    print(\"Введены некорректные данные\")"
   ]
  },
  {
   "cell_type": "markdown",
   "metadata": {},
   "source": [
    "**Задание 4**. Нужно разработать приложение для финансового планирования.\n",
    "Приложение учитывает сколько уходит на ипотеку, \"на жизнь\" и сколько нужно отложить на пенсию.\n",
    "Пользователь вводит:\n",
    "- заработанную плату в месяц.\n",
    "- сколько процентов от ЗП уходит на ипотеку.\n",
    "- сколько процентов от ЗП уходит \"на жизнь\".\n",
    "- сколько раз приходит премия в год.\n",
    "\n",
    "Остальная часть заработанной платы откладывается на пенсию.\n",
    "\n",
    "Также пользователю приходит премия в размере зарплаты, от которой половина уходит на отпуск, а вторая половина откладывается.\n",
    "\n",
    "Программа должна учитывать сколько премий было в год.\n",
    "\n",
    "Нужно вывести сколько денег тратит пользователь на ипотеку и сколько он накопит за год.\n",
    "\n",
    "Пример:\n",
    "\n",
    "Введите заработанную плату в месяц: 100000\n",
    "\n",
    "Введите сколько процентов уходит на ипотеку: 30\n",
    "\n",
    "Введите сколько процентов уходит на жизнь: 50\n",
    "\n",
    "Введите количество премий за год: 2\n",
    "\n",
    "Вывод:\n",
    "На ипотеку было потрачено: 360000 рублей\n",
    "Было накоплено: 340000 рублей"
   ]
  },
  {
   "cell_type": "code",
   "execution_count": 1,
   "metadata": {},
   "outputs": [
    {
     "name": "stdout",
     "output_type": "stream",
     "text": [
      "Введите размер заработной платы в месяц100000\n",
      "Укажите, какой процент зарплаты уходит на ипотеку30\n",
      "Укажите, какой процент зарплаты уходит 'на жизнь'50\n",
      "Введите количество премий в год2\n",
      "На ипотеку было потрачено: 360000 рублей. Было накоплено: 340000 рублей\n"
     ]
    }
   ],
   "source": [
    "salary_month = int(input(\"Введите размер заработной платы в месяц\"))\n",
    "mortgage = int(input(\"Укажите, какой процент зарплаты уходит на ипотеку\"))\n",
    "living_expenses = int(input(\"Укажите, какой процент зарплаты уходит 'на жизнь'\"))\n",
    "bonus = int(input(\"Введите количество премий в год\"))\n",
    "\n",
    "mortgage_per_year = round((salary_month * mortgage / 100) * 12)\n",
    "saving = round(salary_month * (12 * (1 - 0.01 *(mortgage + living_expenses)) + bonus / 2))\n",
    "\n",
    "print(\"На ипотеку было потрачено:\", mortgage_per_year, \"рублей.\", \"Было накоплено:\", saving, \"рублей\")"
   ]
  },
  {
   "cell_type": "code",
   "execution_count": null,
   "metadata": {},
   "outputs": [],
   "source": []
  }
 ],
 "metadata": {
  "kernelspec": {
   "display_name": "Python 3",
   "language": "python",
   "name": "python3"
  },
  "language_info": {
   "codemirror_mode": {
    "name": "ipython",
    "version": 3
   },
   "file_extension": ".py",
   "mimetype": "text/x-python",
   "name": "python",
   "nbconvert_exporter": "python",
   "pygments_lexer": "ipython3",
   "version": "3.7.4"
  }
 },
 "nbformat": 4,
 "nbformat_minor": 2
}
